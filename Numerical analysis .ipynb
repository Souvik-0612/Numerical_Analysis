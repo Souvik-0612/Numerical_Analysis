{
 "cells": [
  {
   "cell_type": "markdown",
   "id": "ba0b109c",
   "metadata": {},
   "source": [
    "# Aims:\n",
    "* I will write all codes for numerical analysis in this notebook.\n",
    "* I want to use Object oriented programming for this staffs.\n",
    "* I follow *Introduction to Numerical Analysis* by *S S Sastry*.\n",
    "* I shall take few inbuit function to manupulate my code.\n",
    "# I am very much motivated from a sentance:\n",
    "    \n",
    "    \"Code are more often **read** than write.\""
   ]
  },
  {
   "cell_type": "markdown",
   "id": "8d1d0fee",
   "metadata": {},
   "source": [
    "# Chapter 1: Errors in Numerical Calculations \n",
    "\n",
    "   **Problem 1: Error in a series approximations** <br/>\n",
    "   \n",
    "   We know the series of $\\sin x$ about $x = 0 $ is given by\n",
    "   \n",
    "   $$ \\sum_{i = 0}^{\\infty}=(-1)^n \\frac{x^{2i+1}}{(2i+1)!}$$\n",
    "   \n",
    "   For say you know somehow $\\sin x$ for a certain $x$. To verify the above equation is right or wrong you have to tolarate some error and see for what order of $x$ the error of actual value of $\\sin x$ is differ from the series evaluted value.\n",
    "   \n",
    "   So we going to create a function for `fact` for factorial and `while` loop for finding the actual order for which the error is our given value.\n",
    "   \n",
    "   This problem was first given to me in first sem final exam by *ADC Sir(RKMVCC)*. I had tried that out. "
   ]
  },
  {
   "cell_type": "code",
   "execution_count": 2,
   "id": "5a547f15",
   "metadata": {},
   "outputs": [],
   "source": [
    "from math import sin #I have only right to import sin() from math library.\n",
    "\n",
    "# I want to make this code in a class \"Series_approx\" :: In progress...\n",
    "\n",
    "def fact(n):\n",
    "    if n < 1:\n",
    "        return 1\n",
    "    return n*fact(n-1)\n",
    "    \n",
    "# Creating the sin x series \n",
    "def sine(x,n):                         #Where x is the value and n is the order \n",
    "    sum = 0\n",
    "    for i in range(n):\n",
    "        sum += (-1)**i * x**(2*i+1)/fact(2*i+1)  \n",
    "    return sum\n",
    "\n",
    "# To get the order \n",
    "def get_the_order(x, error):\n",
    "    order = 0\n",
    "    while (abs(sin(x) - sine(x, order)) > error):\n",
    "        order += 1\n",
    "    return order\n",
    "\n",
    "# This function is created for the user to find easily the value of radian of input degree \n",
    "def degtoRad(x):\n",
    "    return 3.1415*x/180"
   ]
  },
  {
   "cell_type": "markdown",
   "id": "0bc994db",
   "metadata": {},
   "source": [
    "# Chapter 2: Finding the root of a equation using numerical analysis \n",
    "#### Targets are::\n",
    "\n",
    "* Bisection mathod\n",
    "* Methoed of false position\n",
    "* Iteration method \n",
    "* Newton-Raphson Method from this find the sqrt of a number as well of cbrt of a number\n",
    "* Ramanujan's Method"
   ]
  },
  {
   "cell_type": "markdown",
   "id": "7706dedd",
   "metadata": {},
   "source": [
    "# 1. Bisection Method\n",
    "\n",
    "**Theorem** :  If a function $f(x)$ is continuos between a and b, and $f(a)$ and $f(b)$ are of opposite signs, then there exists at least one root between a and b.\n",
    "#### Algorithm:\n",
    "1. Take two real positive numbers. Say a and b.\n",
    "2. Find $f(a)$ and $f(b)$.\n",
    "3. Check $f(a)f(b) < 0$ is `True` or not.\n",
    "4. If `False` go to 1. Else:\n",
    "5. Set $x_r = \\frac{a+b}{2}$\n",
    "6. If $f(a)f(x_r) < 0$. Then the root lies in the interval $[x_r,a]$ and go to line 5.\n",
    "7. If $f(b)f(x_r) < 0$. Then the root lies in the interval $[b,x_r]$ and go to line 5.\n",
    "8. Else the root is $x_r$.\n",
    "\n",
    "But in practice the root may not be exact so that the condition 8 migh tbr fullfilled. So the **Strategy** I am going to use is that I will check the all new $x_r$ with the old $x_r$. \n",
    "\n",
    "A convenient criterion is to compute the percentage error $\\epsilon_r$ defined by\n",
    "\n",
    "$$ \\epsilon_r = \\left|\\frac{x'_r-x_r}{x'_r}\\right| \\times 100%$$ \n",
    "where $x'_r$ is the new value of $x_r$.\n",
    "\n",
    "We can use this $\\epsilon_r$ to a get the number of iterations. $\\epsilon_r$ works here as a **accuracy measurement** instrument."
   ]
  },
  {
   "cell_type": "code",
   "execution_count": 1,
   "id": "9bfb5383",
   "metadata": {},
   "outputs": [
    {
     "ename": "SyntaxError",
     "evalue": "invalid syntax (1043986564.py, line 12)",
     "output_type": "error",
     "traceback": [
      "\u001b[0;36m  Input \u001b[0;32mIn [1]\u001b[0;36m\u001b[0m\n\u001b[0;31m    x =\u001b[0m\n\u001b[0m        ^\u001b[0m\n\u001b[0;31mSyntaxError\u001b[0m\u001b[0;31m:\u001b[0m invalid syntax\n"
     ]
    }
   ],
   "source": [
    "def f(x):\n",
    "    return x**3 - x - 1\n",
    "\n",
    "def Bisection(a, b, error):\n",
    "    if f(a)*f(b) > 0:\n",
    "        print(\"Retry with new a and b\")\n",
    "    elif f(a)*f(b) < 0:\n",
    "        x = (a+b)/2\n",
    "        while (abs(((xn - x)/xn)*100 > error):\n",
    "            if f(a)*f(x) < 0:\n",
    "                b = x\n",
    "                xn = \n",
    "            elif f(x)*f(b) < 0:\n",
    "                a = x\n",
    "                xn = \n",
    "            else:\n",
    "                return x\n",
    "        return x\n",
    "    else:\n",
    "        print(\"You have entered a root of the equation.\")"
   ]
  },
  {
   "cell_type": "code",
   "execution_count": null,
   "id": "1e735b54",
   "metadata": {},
   "outputs": [],
   "source": []
  }
 ],
 "metadata": {
  "kernelspec": {
   "display_name": "Python 3 (ipykernel)",
   "language": "python",
   "name": "python3"
  },
  "language_info": {
   "codemirror_mode": {
    "name": "ipython",
    "version": 3
   },
   "file_extension": ".py",
   "mimetype": "text/x-python",
   "name": "python",
   "nbconvert_exporter": "python",
   "pygments_lexer": "ipython3",
   "version": "3.10.4"
  }
 },
 "nbformat": 4,
 "nbformat_minor": 5
}
